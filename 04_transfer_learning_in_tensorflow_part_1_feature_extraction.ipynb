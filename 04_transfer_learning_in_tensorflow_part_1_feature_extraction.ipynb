{
  "nbformat": 4,
  "nbformat_minor": 0,
  "metadata": {
    "colab": {
      "provenance": [],
      "collapsed_sections": [],
      "authorship_tag": "ABX9TyOrn1u0ZnMDkKhRnTMFj1f4",
      "include_colab_link": true
    },
    "kernelspec": {
      "name": "python3",
      "display_name": "Python 3"
    },
    "language_info": {
      "name": "python"
    },
    "accelerator": "GPU"
  },
  "cells": [
    {
      "cell_type": "markdown",
      "metadata": {
        "id": "view-in-github",
        "colab_type": "text"
      },
      "source": [
        "<a href=\"https://colab.research.google.com/github/aleguma/tf-cert/blob/main/04_transfer_learning_in_tensorflow_part_1_feature_extraction.ipynb\" target=\"_parent\"><img src=\"https://colab.research.google.com/assets/colab-badge.svg\" alt=\"Open In Colab\"/></a>"
      ]
    },
    {
      "cell_type": "markdown",
      "source": [
        "# Transfer Learning with TensorFlow Part 1: Feature Extraction\n",
        "\n",
        "Transfer learning is one of the most powerful techniques in Deep Learning. This first notebook will cover FEATURE EXTRACTION (part 1)"
      ],
      "metadata": {
        "id": "5_Pw9_MBT_hL"
      }
    },
    {
      "cell_type": "markdown",
      "source": [
        "### What is transfer learning?\n",
        "\n",
        "Surely someone has spent the time crafting the right model for the job...transfer learning leverages these already created model for similar or the same task, to our own task.\n",
        "\n",
        "The whole concept of TL is taking what one model has learned in a similar domain to our problem, and then applying it to our specific use case. Using TF we can have better results faster, far less handcrafting our architectures, as we leverage the hard work of others.\n",
        "\n",
        "#### Example of transfer learning use cases:\n",
        "\n",
        "* Computer vision (e.g., models built/trained using ImageNet, which is used as a benchmark for many architectures). The better the computer vision model, the better the score on identifying the 1000 classes of this data. So, if someone has spent so much time on generating a model/architecture that works very well on ImageNet to detect 1000 classes, why can't we use it for our computer vision problem? Sure we can :)\n",
        "\n",
        "* Natural language processing (i.e., finding patterns in textual data). Same concept applies as before. You can, for instance, leverage NLP models trained on Wikipedia and adapt it to your specific use case in NLP.\n",
        "\n",
        "So the premise of transfer learning is that *a deep learning network architecture learns patterns/weights from a similar problem space and then we tune/use the patterns to a specific (related) problem*. \n",
        "\n",
        "#### Why use transfer learning?\n",
        "\n",
        "* It can leverage an existing neural network architecture **proven to work** on problems similar to our own.\n",
        "* It can leverage a working network architecture which has **already learned patterns** on similar data to our own (often results in great results with less data).\n",
        "\n",
        "For example, in a computer vision example:\n",
        "\n",
        "1. A deep learning architecture it may learn patterns in a wide variety of images (e.g., using ImageNet).\n",
        "2. It results, after a lot of effort, in a specific architecture such as *EfficientNet* or the next SOTA architecture that will replace it. So we know that the model already works really well on similar CV tasks to ours.\n",
        "3. Then we leverage that pretrained architecture, we tune the patterns/weights to our own problem.\n",
        "4. The model performs better than from scratch, because we are leveraging patterns already learned. \n",
        "\n"
      ],
      "metadata": {
        "id": "fdsbGOT9UlTp"
      }
    },
    {
      "cell_type": "markdown",
      "source": [
        "## What we are going to cover in this notebook...\n",
        "\n",
        "* Introduce **transfer learning** with TensorFlow\n",
        "* Using a small dataset to experiment faster (10% of training samples)\n",
        "* Building a **transfer learning feature extraction** model with TensorFlow hub\n",
        "* Use TensorBoard to track modeling experiments and results"
      ],
      "metadata": {
        "id": "VylDCdvmYhu5"
      }
    },
    {
      "cell_type": "markdown",
      "source": [
        "### Recap about transfer learning\n",
        "\n",
        "Transfer learning is leveraging a working model's existing architecture and learned patterns for our own problem.\n",
        "\n",
        "There are two main benefits: \n",
        "1. Can leverage an existing neural network architecture proven to work on problems similar to our own.\n",
        "2. Can leverage a working neural network architecture which has already learned patterns on similar data to our own, then we can adapt those patterns to our own data. \n",
        "\n",
        "\n"
      ],
      "metadata": {
        "id": "hEC9n9PxY8CO"
      }
    },
    {
      "cell_type": "code",
      "source": [
        "# Are we using a GPU?\n",
        "!nvidia-smi   # Tesla T4"
      ],
      "metadata": {
        "colab": {
          "base_uri": "https://localhost:8080/"
        },
        "id": "3ENgmhRFaKB9",
        "outputId": "694b4627-f350-4e5e-9116-43bd7606d9ac"
      },
      "execution_count": 1,
      "outputs": [
        {
          "output_type": "stream",
          "name": "stdout",
          "text": [
            "Wed Sep 21 13:19:30 2022       \n",
            "+-----------------------------------------------------------------------------+\n",
            "| NVIDIA-SMI 460.32.03    Driver Version: 460.32.03    CUDA Version: 11.2     |\n",
            "|-------------------------------+----------------------+----------------------+\n",
            "| GPU  Name        Persistence-M| Bus-Id        Disp.A | Volatile Uncorr. ECC |\n",
            "| Fan  Temp  Perf  Pwr:Usage/Cap|         Memory-Usage | GPU-Util  Compute M. |\n",
            "|                               |                      |               MIG M. |\n",
            "|===============================+======================+======================|\n",
            "|   0  Tesla T4            Off  | 00000000:00:04.0 Off |                    0 |\n",
            "| N/A   56C    P8    10W /  70W |      0MiB / 15109MiB |      0%      Default |\n",
            "|                               |                      |                  N/A |\n",
            "+-------------------------------+----------------------+----------------------+\n",
            "                                                                               \n",
            "+-----------------------------------------------------------------------------+\n",
            "| Processes:                                                                  |\n",
            "|  GPU   GI   CI        PID   Type   Process name                  GPU Memory |\n",
            "|        ID   ID                                                   Usage      |\n",
            "|=============================================================================|\n",
            "|  No running processes found                                                 |\n",
            "+-----------------------------------------------------------------------------+\n"
          ]
        }
      ]
    },
    {
      "cell_type": "markdown",
      "source": [
        "## Downloading and becoming one with the data\n"
      ],
      "metadata": {
        "id": "nF9_1bhxa40-"
      }
    },
    {
      "cell_type": "code",
      "source": [
        "# Before we used 750 images per class, now we are going to use the same data set but only 10% of these data\n",
        "# So every class will have only 75 images!\n",
        "\n",
        "# Get data (10% of 10 food classes from Food101 on Kaggle) - https://www.kaggle.com/dansbecker/food-101/\n",
        "import zipfile\n",
        "\n",
        "# Download the data\n",
        "!wget https://storage.googleapis.com/ztm_tf_course/food_vision/10_food_classes_10_percent.zip\n",
        "\n",
        "# Unzip the downloaded file\n",
        "zip_ref = zipfile.ZipFile(\"10_food_classes_10_percent.zip\")\n",
        "zip_ref.extractall()\n",
        "zip_ref.close()"
      ],
      "metadata": {
        "colab": {
          "base_uri": "https://localhost:8080/"
        },
        "id": "yfspp-P2c5_d",
        "outputId": "5c9f3cbe-a315-4ca0-88e9-ac64ec488e96"
      },
      "execution_count": 2,
      "outputs": [
        {
          "output_type": "stream",
          "name": "stdout",
          "text": [
            "--2022-09-21 13:19:32--  https://storage.googleapis.com/ztm_tf_course/food_vision/10_food_classes_10_percent.zip\n",
            "Resolving storage.googleapis.com (storage.googleapis.com)... 142.251.12.128, 74.125.200.128, 74.125.68.128, ...\n",
            "Connecting to storage.googleapis.com (storage.googleapis.com)|142.251.12.128|:443... connected.\n",
            "HTTP request sent, awaiting response... 200 OK\n",
            "Length: 168546183 (161M) [application/zip]\n",
            "Saving to: ‘10_food_classes_10_percent.zip’\n",
            "\n",
            "10_food_classes_10_ 100%[===================>] 160.74M   269MB/s    in 0.6s    \n",
            "\n",
            "2022-09-21 13:19:32 (269 MB/s) - ‘10_food_classes_10_percent.zip’ saved [168546183/168546183]\n",
            "\n"
          ]
        }
      ]
    },
    {
      "cell_type": "code",
      "source": [
        "# How many images are in each folder?\n",
        "import os\n",
        "\n",
        "# Walk through 10 percent data directory and list the number of files\n",
        "for dirpath, dirnames, filenames in os.walk(\"10_food_classes_10_percent\"):\n",
        "  print(f\"There are {len(dirnames)} directories and {len(filenames)} images in '{dirpath}'\")\n"
      ],
      "metadata": {
        "colab": {
          "base_uri": "https://localhost:8080/"
        },
        "id": "DaldW90CeuYd",
        "outputId": "e7bd3c30-d676-4a72-9b1a-2f22ced781d1"
      },
      "execution_count": 3,
      "outputs": [
        {
          "output_type": "stream",
          "name": "stdout",
          "text": [
            "There are 2 directories and 0 images in '10_food_classes_10_percent'\n",
            "There are 10 directories and 0 images in '10_food_classes_10_percent/test'\n",
            "There are 0 directories and 250 images in '10_food_classes_10_percent/test/ice_cream'\n",
            "There are 0 directories and 250 images in '10_food_classes_10_percent/test/grilled_salmon'\n",
            "There are 0 directories and 250 images in '10_food_classes_10_percent/test/hamburger'\n",
            "There are 0 directories and 250 images in '10_food_classes_10_percent/test/ramen'\n",
            "There are 0 directories and 250 images in '10_food_classes_10_percent/test/fried_rice'\n",
            "There are 0 directories and 250 images in '10_food_classes_10_percent/test/chicken_wings'\n",
            "There are 0 directories and 250 images in '10_food_classes_10_percent/test/sushi'\n",
            "There are 0 directories and 250 images in '10_food_classes_10_percent/test/steak'\n",
            "There are 0 directories and 250 images in '10_food_classes_10_percent/test/pizza'\n",
            "There are 0 directories and 250 images in '10_food_classes_10_percent/test/chicken_curry'\n",
            "There are 10 directories and 0 images in '10_food_classes_10_percent/train'\n",
            "There are 0 directories and 75 images in '10_food_classes_10_percent/train/ice_cream'\n",
            "There are 0 directories and 75 images in '10_food_classes_10_percent/train/grilled_salmon'\n",
            "There are 0 directories and 75 images in '10_food_classes_10_percent/train/hamburger'\n",
            "There are 0 directories and 75 images in '10_food_classes_10_percent/train/ramen'\n",
            "There are 0 directories and 75 images in '10_food_classes_10_percent/train/fried_rice'\n",
            "There are 0 directories and 75 images in '10_food_classes_10_percent/train/chicken_wings'\n",
            "There are 0 directories and 75 images in '10_food_classes_10_percent/train/sushi'\n",
            "There are 0 directories and 75 images in '10_food_classes_10_percent/train/steak'\n",
            "There are 0 directories and 75 images in '10_food_classes_10_percent/train/pizza'\n",
            "There are 0 directories and 75 images in '10_food_classes_10_percent/train/chicken_curry'\n"
          ]
        }
      ]
    },
    {
      "cell_type": "code",
      "source": [
        "# So the test data is the same as used before, but the training data set is just 10% of the used in the previous module - Notebook 03 - (randomly selected instances)\n",
        "# So instead of 750 images per training class, we are using now 75 images per class in the training data set\n",
        "# This is going to highlight one of the powerful features of transfer learning. \n",
        "# So 10 times less data for the model to learn.\n",
        "# Intuitively, you might think that less data leads to worse results, and that would make sense for all we have learned up to now regarding NN\n",
        "# But as we will see shortly, transfer learning provides another point of view for that"
      ],
      "metadata": {
        "id": "y99HwGnkUoTq"
      },
      "execution_count": 4,
      "outputs": []
    },
    {
      "cell_type": "code",
      "source": [
        "# We should visualize the data within the folders and get familiar with it but as it is the same data as in the previous module, we skip\n",
        "# this essential visualization step this time (visualize, visualize, visualize)"
      ],
      "metadata": {
        "id": "J9Y44F3fiiw0"
      },
      "execution_count": 5,
      "outputs": []
    },
    {
      "cell_type": "markdown",
      "source": [
        "## Creating data loaders (preparing the data)\n",
        "\n",
        "We will use the `ImageDataGenerator` class to load in our images in batches."
      ],
      "metadata": {
        "id": "bvx6bksdVb4V"
      }
    },
    {
      "cell_type": "code",
      "source": [
        "# Setup data inputs\n",
        "from tensorflow.keras.preprocessing.image import ImageDataGenerator\n",
        "\n",
        "# We will establish some constant values (capital letters) for some hyper-parameters\n",
        "IMAGE_SHAPE = (224, 224)\n",
        "BATCH_SIZE = 32\n",
        "EPOCHS = 5\n",
        "\n",
        "# Paths to folders\n",
        "train_dir = \"10_food_classes_10_percent/train/\"\n",
        "test_dir = \"10_food_classes_10_percent/test/\"\n",
        "\n",
        "# Create the data generators instances\n",
        "train_datagen = ImageDataGenerator(rescale=1/255.)\n",
        "test_datagen = ImageDataGenerator(rescale=1/255.)\n",
        "\n",
        "print(\"Training images:\") # 10 percent of data used in module 3\n",
        "train_data_10_percent = train_datagen.flow_from_directory(directory=train_dir,\n",
        "                                                          target_size=IMAGE_SHAPE,\n",
        "                                                          batch_size=BATCH_SIZE,\n",
        "                                                          class_mode=\"categorical\")  # multi-class problem\n",
        "\n",
        "print(\"Testing images:\")  # same data as used in module 3, so we can compare the previous and transfer learning model with the same data\n",
        "test_data = test_datagen.flow_from_directory(directory=test_dir,\n",
        "                                             target_size=IMAGE_SHAPE,\n",
        "                                             batch_size=BATCH_SIZE,\n",
        "                                             class_mode=\"categorical\") "
      ],
      "metadata": {
        "colab": {
          "base_uri": "https://localhost:8080/"
        },
        "id": "u8RtSwYbjG8V",
        "outputId": "ea1fbddb-0b9d-4d5f-fc48-373629c3dfa5"
      },
      "execution_count": 6,
      "outputs": [
        {
          "output_type": "stream",
          "name": "stdout",
          "text": [
            "Training images:\n",
            "Found 750 images belonging to 10 classes.\n",
            "Testing images:\n",
            "Found 2500 images belonging to 10 classes.\n"
          ]
        }
      ]
    },
    {
      "cell_type": "code",
      "source": [
        "# To showcase the power of transfer learning we are going to use just 10% of the training data used before\n",
        "# So we have 10x less examples for our model to learn patterns on\n",
        "# But the same amount of testing data"
      ],
      "metadata": {
        "id": "jS6gV_S6lBDS"
      },
      "execution_count": 7,
      "outputs": []
    },
    {
      "cell_type": "markdown",
      "source": [
        "## Setting up callbacks (things to run whilst our model trains)\n",
        "\n",
        "Callbacks are extra functionality you can add to your models to be performed during or after training. Callbacks are a a tool which can **add helpful functionality** to your models during training, evaluation or inference. Some of the most popular callbacks are:\n",
        "\n",
        "* Tracking experiments with the *TensorBoard* callback.\n",
        "  * Use case: Log the performance of multiple models and then view and compare these models in a visual way on TensorBoard (a dashboard for inspecting neural network parameters). Helpful to compare the results of different models on your data. \n",
        "  * Code: `tf.keras.callbacks.TensorBoard()`\n",
        "* Model checkpoint with *ModelCheckpoint* callback.\n",
        "  * Use case: Save your model as it trains so you can stop training if needed and come back to continue off where you left. Helpful if training takes a long time and you can't be done in one sitting.\n",
        "  * `tf.keras.callbacks.ModelCheckpoint()`\n",
        "* Stopping a model from training (before it trains too long and overfits) with the *EarlyStopping* callback.\n",
        "  * Use case: Leave your model training for an arbitrary amount of time and have it stop training automatically when it ceases to improve. Helpful when you have a large dataset and do not know how long training will take. \n",
        "  * `tf.keras.callbacks.EarlyStopping()`\n",
        "\n",
        "More [here](https://www.tensorflow.org/api_docs/python/tf/keras/callbacks/Callback) and you can even build your own!"
      ],
      "metadata": {
        "id": "hdD6ehWLlhF_"
      }
    },
    {
      "cell_type": "code",
      "source": [
        "# Let's use TensorBoard to track our experiments, so we can compare them easily (among many other things TensorBoard can provide us)"
      ],
      "metadata": {
        "id": "D4EkHsYynSHi"
      },
      "execution_count": 8,
      "outputs": []
    },
    {
      "cell_type": "code",
      "source": [
        "# Create TensorBoard callback (functionized because we need to create a new one for each model)\n",
        "\n",
        "import datetime  # we will get a timestamp of when the model was trained\n",
        "\n",
        "def create_tensorboard_callback(dir_name, # dir_name is the file to store the callback, where the model training results are going to be stored\n",
        "                                experiment_name):   # name of the model or reference to the experiment\n",
        "  \n",
        "  log_dir = dir_name + \"/\" + experiment_name + \"/\" + datetime.datetime.now().strftime(\"%Y%m%d-%H%M%S\")   # creating a directory path of where to store the results\n",
        "  tensorboard_callback = tf.keras.callbacks.TensorBoard(log_dir=log_dir)  # creating the callback\n",
        "  print(f\"Saving TensorBoard log files to: {log_dir}\")  # notification message\n",
        "  return tensorboard_callback  # returning the callback to be used"
      ],
      "metadata": {
        "id": "_OM0gS_DoPXU"
      },
      "execution_count": 9,
      "outputs": []
    },
    {
      "cell_type": "markdown",
      "source": [
        "**Note**: You can customize the directory where your TensorBoard logs (model training metrics) get saved to whatever you like. The `log_dir` parameter we have created above is only one option."
      ],
      "metadata": {
        "id": "a4YfLcsNp-vT"
      }
    },
    {
      "cell_type": "markdown",
      "source": [
        "## Creating models using [TensorFlow Hub](https://www.tensorflow.org/hub)\n",
        "\n",
        "*TensorFlow Hub* is a repository of trained machine learning models ready for fine-tuning and deployable anywhere.\n",
        "\n",
        "In the past, we have used TensorFlow to create our own models layer by layer from scratch. \n",
        "\n",
        "Now, we are going to do a similar process, except the majority of our model's layers are going to come from TensorFlow Hub.\n",
        "\n",
        "We can access pre-trained models on: https://tfhub.dev/ and select models according to problem domain we are working on (e.g., image classification), TF version (e.g., TF2), model architecture, etc. \n",
        "\n",
        "When you want to use transfer learning with your problem, you want to use the model which has worked best in our particular problem domain. So, how to select a good model or architecture? You can go to a website called: https://paperswithcode.com, which collects all the latest research papers in deep learning and puts in one place (i.e., browse state-of-the-art option). They provide the best method so far for each dataset, etc. Amazing resource!! \n",
        "\n",
        "However, sometimes the best model might not be the best approach for you, so that is something also to keep in mind. The ranking is a good guide, but not a strict list that has to be followed. Also, some of them might not be in TF Hub yet. \n",
        "\n",
        "For more info we can also Google the research paper that introduced the architecture, etc. In same architecture, usually the higher the number associated to the architecture, the more complex the model."
      ],
      "metadata": {
        "id": "pszBS9T4qyWS"
      }
    },
    {
      "cell_type": "markdown",
      "source": [
        "Browsing the TensorFlow Hub page and sorting for image classification (and feature vector), we found the following feature vector model links: \n",
        "\n",
        "https://tfhub.dev/tensorflow/efficientnet/b0/feature-vector/1 (Efficientnet) https://tfhub.dev/google/imagenet/resnet_v2_50/feature_vector/4 (Resnet)\n",
        "\n",
        "We are going to use them next..."
      ],
      "metadata": {
        "id": "bNycXOb_rGjR"
      }
    },
    {
      "cell_type": "code",
      "source": [
        "# Let's compare the following two models\n",
        "\n",
        "resnet_url = \"https://tfhub.dev/google/imagenet/resnet_v2_50/feature_vector/4\"\n",
        "efficientnet_url = \"https://tfhub.dev/tensorflow/efficientnet/b0/feature-vector/1\""
      ],
      "metadata": {
        "id": "oAHHvulK0vay"
      },
      "execution_count": 10,
      "outputs": []
    },
    {
      "cell_type": "markdown",
      "source": [
        "But before, summarizing...**What is TensorFlow Hub?**\n",
        "\n",
        "* A place to find a plethora of pre-trained machine learning models (ready to be applied and fine-tuned for your own problems).\n",
        "  * If the problem exists on TensorFlow Hub, it is good to leverage the models there are there are SOTA models in problem domains. \n",
        "  * TensorFlow Hub makes using a pre-trained model as simple as calling a URL. \n",
        "\n",
        "Let's see it working!\n"
      ],
      "metadata": {
        "id": "4bFjIW07102X"
      }
    },
    {
      "cell_type": "code",
      "source": [
        "# Import dependencies\n",
        "import tensorflow as tf\n",
        "import tensorflow_hub as hub\n",
        "from tensorflow.keras import layers"
      ],
      "metadata": {
        "id": "MKXecHHu2AIC"
      },
      "execution_count": 11,
      "outputs": []
    },
    {
      "cell_type": "code",
      "source": [
        "# Let's make a create_model() function to create a model from a URL\n",
        "def create_model(model_url, num_classes=10):\n",
        "  \"\"\"\n",
        "  Takes a TensorFlow Hub URL and creates a Keras Sequential model with it.\n",
        "\n",
        "  Args:\n",
        "    model_url (str): A TensorFlow Hub feature extraction URL.\n",
        "    num_classes (int): Number of output neurons in the output layer, should be equal to number of target classes, default 10.\n",
        "\n",
        "  Returns:\n",
        "    An uncompiled Keras Sequential model with model_url as feature extractor layer and\n",
        "    Dense output layer with num_classes output neurons. \n",
        "  \"\"\"\n",
        "  # Download the pretrained model and save it as a Keras layer\n",
        "  feature_extractor_layer = hub.KerasLayer(model_url, # will put the entire model into a Keras Sequential model like as we put layers into the Keras Sequential models before\n",
        "                                           trainable=False, # freeze the already learned patterns, so we can leverage the learned patterns\n",
        "                                           name=\"feature_extraction_layer\",\n",
        "                                           input_shape=IMAGE_SHAPE+(3,)) # syntax hack to get (224, 224, 3)\n",
        "  \n",
        "  # Create our own model\n",
        "  model = tf.keras.Sequential([\n",
        "      feature_extractor_layer,  # the input image is going to go through this whole model first\n",
        "      layers.Dense(num_classes, activation=\"softmax\", name=\"output_layer\") # and then through our own dense layer\n",
        "\n",
        "  ])\n",
        "\n",
        "  return model"
      ],
      "metadata": {
        "id": "DY0IIxiE3EDw"
      },
      "execution_count": 12,
      "outputs": []
    },
    {
      "cell_type": "markdown",
      "source": [
        "### Creating and testing ResNet TensorFlow Hub Feature Extraction model"
      ],
      "metadata": {
        "id": "U-ZlBRXC6Dr2"
      }
    },
    {
      "cell_type": "code",
      "source": [
        "# Create Resnet model\n",
        "resnet_model = create_model(resnet_url,\n",
        "                            num_classes=train_data_10_percent.num_classes)  # another way to get the number of classes in the data set"
      ],
      "metadata": {
        "id": "cKtRNleE55UR"
      },
      "execution_count": 13,
      "outputs": []
    },
    {
      "cell_type": "code",
      "source": [
        "resnet_model.summary()  # get a summary of the created model (it is not compiled as returned by the created function)"
      ],
      "metadata": {
        "colab": {
          "base_uri": "https://localhost:8080/"
        },
        "id": "pcuXsEDm61EU",
        "outputId": "71f01f49-2f53-46e6-edbf-e093776da10a"
      },
      "execution_count": 14,
      "outputs": [
        {
          "output_type": "stream",
          "name": "stdout",
          "text": [
            "Model: \"sequential\"\n",
            "_________________________________________________________________\n",
            " Layer (type)                Output Shape              Param #   \n",
            "=================================================================\n",
            " feature_extraction_layer (K  (None, 2048)             23564800  \n",
            " erasLayer)                                                      \n",
            "                                                                 \n",
            " output_layer (Dense)        (None, 10)                20490     \n",
            "                                                                 \n",
            "=================================================================\n",
            "Total params: 23,585,290\n",
            "Trainable params: 20,490\n",
            "Non-trainable params: 23,564,800\n",
            "_________________________________________________________________\n"
          ]
        }
      ]
    },
    {
      "cell_type": "code",
      "source": [
        "# Look at how many parameters!!\n",
        "# But non-trainable are most of them!! The only trainable parameters are the ones in the output layer.\n",
        "# So the only patterns that are going to train are the ones in the output layer, as we freezed/trainable=False the ones in the feature_extractor_layer, so it is not trainable during training!"
      ],
      "metadata": {
        "id": "V1pwmZr063so"
      },
      "execution_count": 15,
      "outputs": []
    },
    {
      "cell_type": "code",
      "source": [
        "# Compile our resnet model\n",
        "resnet_model.compile(loss=\"categorical_crossentropy\",  # multiclass!\n",
        "                     optimizer=tf.keras.optimizers.Adam(),\n",
        "                     metrics=[\"accuracy\"])"
      ],
      "metadata": {
        "id": "0PCGpj2B7a1E"
      },
      "execution_count": 16,
      "outputs": []
    },
    {
      "cell_type": "code",
      "source": [
        "# Let's fit our resnet model to the data (10 percent of 10 classes)\n",
        "resnet_history = resnet_model.fit(train_data_10_percent, \n",
        "                                  epochs=EPOCHS,\n",
        "                                  steps_per_epoch=len(train_data_10_percent),\n",
        "                                  validation_data=test_data,\n",
        "                                  validation_steps=len(test_data),\n",
        "                                  callbacks=[create_tensorboard_callback(dir_name=\"tensorflow_hub\",  # passing the callback of tensorboard we created as a function! Callbacks parameter is a ist\n",
        "                                                                         experiment_name=\"resnet50v2\")])"
      ],
      "metadata": {
        "colab": {
          "base_uri": "https://localhost:8080/"
        },
        "id": "v9jn6gAR7ten",
        "outputId": "0271511f-73fe-4695-aa08-1c27e2c2ef83"
      },
      "execution_count": 17,
      "outputs": [
        {
          "output_type": "stream",
          "name": "stdout",
          "text": [
            "Saving TensorBoard log files to: tensorflow_hub/resnet50v2/20220921-131945\n",
            "Epoch 1/5\n",
            "24/24 [==============================] - 31s 737ms/step - loss: 1.9559 - accuracy: 0.3640 - val_loss: 1.1881 - val_accuracy: 0.6288\n",
            "Epoch 2/5\n",
            "24/24 [==============================] - 15s 667ms/step - loss: 0.9125 - accuracy: 0.7333 - val_loss: 0.8425 - val_accuracy: 0.7368\n",
            "Epoch 3/5\n",
            "24/24 [==============================] - 15s 661ms/step - loss: 0.6179 - accuracy: 0.8227 - val_loss: 0.7413 - val_accuracy: 0.7608\n",
            "Epoch 4/5\n",
            "24/24 [==============================] - 17s 742ms/step - loss: 0.4823 - accuracy: 0.8720 - val_loss: 0.7022 - val_accuracy: 0.7744\n",
            "Epoch 5/5\n",
            "24/24 [==============================] - 16s 704ms/step - loss: 0.3922 - accuracy: 0.9080 - val_loss: 0.6768 - val_accuracy: 0.7792\n"
          ]
        }
      ]
    },
    {
      "cell_type": "markdown",
      "source": [
        "AWESOMEEEEEEEEEEEE RESULTS!!! The model we built from scratch with a similar architecture to the CNN explainer website provided a validation accuracy below 40%, using data augmentation and taking much longer to train (over 100s per epoch). This one is way faster, 8 times less time, and way better, doubling the performance with almost 80% accuracy! AWESOME RESULTS WITH TRANSFER LEARNING!\n",
        "\n",
        "Incredible results. Our transfer learning feature extractor model (using the whole trained network on another data set and just using our own custom data for input and output neurons, classes, and training only that), outperformed ALL the previous models we built by hand...(substantially) and in a quicker training time AND with only 10 percent of the training examples (not using the full training data set used to train the previous models).\n",
        "\n",
        "Let's see more..."
      ],
      "metadata": {
        "id": "ad6bh9StIvZL"
      }
    },
    {
      "cell_type": "code",
      "source": [
        "# Let's create a function to plot our loss curves...\n",
        "# Tidbit: you could put a function like this into a script called \"helper.py\" and import the library and the function when you need it...\n",
        "import matplotlib.pyplot as plt\n",
        "\n",
        "# Plot the validation and training curves\n",
        "def plot_loss_curves(history):\n",
        "  \"\"\"\n",
        "  Returns separate loss curves for training and validation metrics.\n",
        "\n",
        "  Args:\n",
        "    history: Tensorflow History object.\n",
        "\n",
        "  Returns:\n",
        "    Plots of training/validation loss and accuracy metrics.\n",
        "  \"\"\"\n",
        "  loss = history.history[\"loss\"]\n",
        "  val_loss = history.history[\"val_loss\"]\n",
        "\n",
        "  # This part might need to be changed if another metric is used!\n",
        "  accuracy = history.history[\"accuracy\"]\n",
        "  val_accuracy = history.history[\"val_accuracy\"]\n",
        "\n",
        "  epochs = range(len(history.history[\"loss\"]))\n",
        "\n",
        "  # Plot loss\n",
        "  plt.plot(epochs, loss, label=\"training_loss\")\n",
        "  plt.plot(epochs, val_loss, label=\"validation_loss\")\n",
        "  plt.title(\"Loss\")\n",
        "  plt.xlabel(\"Epochs\")\n",
        "  plt.legend()\n",
        "\n",
        "  # Plot accuracy\n",
        "  plt.figure()\n",
        "  plt.plot(epochs, accuracy, label=\"training_accuracy\")\n",
        "  plt.plot(epochs, val_accuracy, label=\"validation_accuracy\")\n",
        "  plt.title(\"Accuracy\")\n",
        "  plt.xlabel(\"Epochs\")\n",
        "  plt.legend();"
      ],
      "metadata": {
        "id": "FUX40rsHJI4o"
      },
      "execution_count": 18,
      "outputs": []
    },
    {
      "cell_type": "code",
      "source": [
        "plot_loss_curves(resnet_history)"
      ],
      "metadata": {
        "colab": {
          "base_uri": "https://localhost:8080/",
          "height": 573
        },
        "id": "ZpS_fJUVL9JO",
        "outputId": "48fcfdf9-1bf8-4b27-b2f2-a65861023741"
      },
      "execution_count": 19,
      "outputs": [
        {
          "output_type": "display_data",
          "data": {
            "text/plain": [
              "<Figure size 432x288 with 1 Axes>"
            ],
            "image/png": "[encoded data removed]"
          },
          "metadata": {
            "needs_background": "light"
          }
        },
        {
          "output_type": "display_data",
          "data": {
            "text/plain": [
              "<Figure size 432x288 with 1 Axes>"
            ],
            "image/png": "[encoded data removed]"
          },
          "metadata": {
            "needs_background": "light"
          }
        }
      ]
    },
    {
      "cell_type": "code",
      "source": [
        "# So the curves are pretty close, this is what we tried on the previous models; get this curves as close as possible!\n",
        "# Although the validation loss to be not going down as fast as the training loss! So hinting that the model might be overfitting...\n",
        "# Remember overfitting: validation loss increasing while training loss decreasing! As a result of learning the training data too well.\n",
        "# Accuracy curves are also quite close, so quite good!"
      ],
      "metadata": {
        "id": "ap5IB86jL_Wv"
      },
      "execution_count": 20,
      "outputs": []
    },
    {
      "cell_type": "markdown",
      "source": [
        "So we are done for now with ResNet, let's build the EfficientNet model..."
      ],
      "metadata": {
        "id": "Ny-8mQfyMuUe"
      }
    },
    {
      "cell_type": "markdown",
      "source": [
        "### Creating and testing EfficientNet B0 TensorFlow Hub Feature Extraction model\n",
        "\n",
        "Details on [EfficientNet](https://ai.googleblog.com/2019/05/efficientnet-improving-accuracy-and.html)"
      ],
      "metadata": {
        "id": "yj0QsznDMmtZ"
      }
    },
    {
      "cell_type": "code",
      "source": [
        "# Create EfficientNetB0 feature extractor model\n",
        "efficientnet_model = create_model(model_url=efficientnet_url,\n",
        "                                  num_classes=train_data_10_percent.num_classes)\n",
        "\n",
        "# Compile EfficientNet model\n",
        "efficientnet_model.compile(loss=\"categorical_crossentropy\",   #multiclass classification\n",
        "                           optimizer=tf.keras.optimizers.Adam(),\n",
        "                           metrics=[\"accuracy\"])\n",
        "\n",
        "# Fit EfficientNet model to 10% of the training data\n",
        "efficientnet_history = efficientnet_model.fit(train_data_10_percent, \n",
        "                                              epochs=EPOCHS,\n",
        "                                              steps_per_epoch=len(train_data_10_percent),\n",
        "                                              validation_data=test_data,\n",
        "                                              validation_steps=len(test_data),\n",
        "                                              callbacks=[create_tensorboard_callback(dir_name=\"tensorflow_hub\", \n",
        "                                                                                     experiment_name=\"efficientnetb0\")])"
      ],
      "metadata": {
        "colab": {
          "base_uri": "https://localhost:8080/"
        },
        "id": "0WTInd8DM23F",
        "outputId": "ae15159c-dc4c-484d-ce27-bd44c75b649f"
      },
      "execution_count": 21,
      "outputs": [
        {
          "output_type": "stream",
          "name": "stdout",
          "text": [
            "Saving TensorBoard log files to: tensorflow_hub/efficientnetb0/20220921-132137\n",
            "Epoch 1/5\n",
            "24/24 [==============================] - 27s 760ms/step - loss: 1.8677 - accuracy: 0.4080 - val_loss: 1.3096 - val_accuracy: 0.7296\n",
            "Epoch 2/5\n",
            "24/24 [==============================] - 16s 680ms/step - loss: 1.0644 - accuracy: 0.7933 - val_loss: 0.8683 - val_accuracy: 0.8212\n",
            "Epoch 3/5\n",
            "24/24 [==============================] - 16s 672ms/step - loss: 0.7565 - accuracy: 0.8387 - val_loss: 0.6944 - val_accuracy: 0.8436\n",
            "Epoch 4/5\n",
            "24/24 [==============================] - 16s 674ms/step - loss: 0.6075 - accuracy: 0.8680 - val_loss: 0.6076 - val_accuracy: 0.8536\n",
            "Epoch 5/5\n",
            "24/24 [==============================] - 16s 684ms/step - loss: 0.5147 - accuracy: 0.8893 - val_loss: 0.5548 - val_accuracy: 0.8608\n"
          ]
        }
      ]
    },
    {
      "cell_type": "code",
      "source": [
        "# WoW! 86% accuracy on the validation data, awesome!!! Even better than the ResNet model, by 10%!! \n",
        "# And in about the same time per epoch, amazing!"
      ],
      "metadata": {
        "id": "SOpbd2adPDVu"
      },
      "execution_count": 22,
      "outputs": []
    },
    {
      "cell_type": "code",
      "source": [
        "# Let's plot the loss curves\n",
        "plot_loss_curves(efficientnet_history)"
      ],
      "metadata": {
        "colab": {
          "base_uri": "https://localhost:8080/",
          "height": 573
        },
        "id": "ZHx61Q6QPc8H",
        "outputId": "c0b94ba1-3f11-4818-e6bd-d253175cf8c2"
      },
      "execution_count": 23,
      "outputs": [
        {
          "output_type": "display_data",
          "data": {
            "text/plain": [
              "<Figure size 432x288 with 1 Axes>"
            ],
            "image/png": "[encoded data removed]"
          },
          "metadata": {
            "needs_background": "light"
          }
        },
        {
          "output_type": "display_data",
          "data": {
            "text/plain": [
              "<Figure size 432x288 with 1 Axes>"
            ],
            "image/png": "[encoded data removed]"
          },
          "metadata": {
            "needs_background": "light"
          }
        }
      ]
    },
    {
      "cell_type": "code",
      "source": [
        "# BRUTAL! Both curves are extremely close in both cases!! They are very very close to the ideal scenario where both curves line up!\n",
        "# And seems they could keep going, heading in the same direction!\n",
        "# That could be something worth to try, to train for more epochs\n",
        "# Also try other EfficientNet models, there are from B1 to B7!!"
      ],
      "metadata": {
        "id": "IBA0gKwaPood"
      },
      "execution_count": 24,
      "outputs": []
    },
    {
      "cell_type": "code",
      "source": [
        "# Let's check the model summary...\n",
        "efficientnet_model.summary()"
      ],
      "metadata": {
        "colab": {
          "base_uri": "https://localhost:8080/"
        },
        "id": "XFSj_5xFQUBO",
        "outputId": "e993bc37-a1b0-4158-878b-c7a91c3e4b66"
      },
      "execution_count": 25,
      "outputs": [
        {
          "output_type": "stream",
          "name": "stdout",
          "text": [
            "Model: \"sequential_1\"\n",
            "_________________________________________________________________\n",
            " Layer (type)                Output Shape              Param #   \n",
            "=================================================================\n",
            " feature_extraction_layer (K  (None, 1280)             4049564   \n",
            " erasLayer)                                                      \n",
            "                                                                 \n",
            " output_layer (Dense)        (None, 10)                12810     \n",
            "                                                                 \n",
            "=================================================================\n",
            "Total params: 4,062,374\n",
            "Trainable params: 12,810\n",
            "Non-trainable params: 4,049,564\n",
            "_________________________________________________________________\n"
          ]
        }
      ]
    },
    {
      "cell_type": "code",
      "source": [
        "# Trainable parameters are only the ones in the output layer\n",
        "# The rest are frozen (non-trainable)! \n",
        "# All of the feature extraction layer parameters stay frozen/the same!\n",
        "# All the layers in the pretrained architecture stay the same, all the patterns there stay the same!\n",
        "# We are only updating the output layer!"
      ],
      "metadata": {
        "id": "bgregnN4QWO3"
      },
      "execution_count": 26,
      "outputs": []
    },
    {
      "cell_type": "code",
      "source": [
        "# Let's see the summary of ResNet\n",
        "resnet_model.summary()"
      ],
      "metadata": {
        "colab": {
          "base_uri": "https://localhost:8080/"
        },
        "id": "AEFZT6z-QlZH",
        "outputId": "e2c0e215-b795-48da-ed0e-a294738c5479"
      },
      "execution_count": 27,
      "outputs": [
        {
          "output_type": "stream",
          "name": "stdout",
          "text": [
            "Model: \"sequential\"\n",
            "_________________________________________________________________\n",
            " Layer (type)                Output Shape              Param #   \n",
            "=================================================================\n",
            " feature_extraction_layer (K  (None, 2048)             23564800  \n",
            " erasLayer)                                                      \n",
            "                                                                 \n",
            " output_layer (Dense)        (None, 10)                20490     \n",
            "                                                                 \n",
            "=================================================================\n",
            "Total params: 23,585,290\n",
            "Trainable params: 20,490\n",
            "Non-trainable params: 23,564,800\n",
            "_________________________________________________________________\n"
          ]
        }
      ]
    },
    {
      "cell_type": "code",
      "source": [
        "# ResNet has almost 6 times more parameters than EfficientNet!\n",
        "# EfficientNet outperforms ResNet having fewer parameters!!"
      ],
      "metadata": {
        "id": "I8c7BvkKQ2VX"
      },
      "execution_count": 28,
      "outputs": []
    },
    {
      "cell_type": "code",
      "source": [
        "# How many layers our EfficientNetB0 feature extractor has?\n",
        "efficientnet_model.layers[0].weights  # these are the patterns that the NN has learned on previous images/data sets (original model)\n",
        "# layer 0 is the feature extractor layer that is actually a whole model architecture!\n",
        "# there are one of the big tensors for every layer of the original architecture, that is, a weight matrix for every layer!\n",
        "# So if we want to see how many layers there are, approximately, we can do...\n",
        "len(efficientnet_model.layers[0].weights)  # to have an approximate idea of how many layers there are in our EfficientNet model"
      ],
      "metadata": {
        "colab": {
          "base_uri": "https://localhost:8080/"
        },
        "id": "S9FRd9iMgJKD",
        "outputId": "78111ffb-4950-42d0-df2f-cb514e8c77e8"
      },
      "execution_count": 29,
      "outputs": [
        {
          "output_type": "execute_result",
          "data": {
            "text/plain": [
              "309"
            ]
          },
          "metadata": {},
          "execution_count": 29
        }
      ]
    },
    {
      "cell_type": "code",
      "source": [
        "# The previous models we built had 6 layers...\n",
        "# Imagine how much time would be needed to build something so complex, with so many layers!"
      ],
      "metadata": {
        "id": "nPrELmwlgJH2"
      },
      "execution_count": 30,
      "outputs": []
    },
    {
      "cell_type": "markdown",
      "source": [
        "## Different types of transfer learning\n",
        "\n",
        "* **\"As is\" transfer learning**: using an existing model with no changes whatsoever, not even in the last layer (e.g., using ImageNet model on 1000 ImageNet classes, none of your own). This is using the original model as it is.\n",
        "\n",
        "* **\"Feature extraction\" transfer learning**: use the prelearned patterns of an existing model (e.g., EfficientNetB0 trained on ImageNet) and adjust (only) the output layer for your own problem (e.g., 1000 classes -> 10 classes of food). So original model layers do not update during training, they stay the same (frozen: *Trainable=False*); only the last layer (that we modify for our own problem) gets updated during training. And in this case we use a different dataset, but that is similar to the original data set. So, the only changes from the original model are in the input and output layers (i.e., data set and classes), so the output layer gets trained on new (input) data feature vectors that result from the feature extractor part of the network (original).\n",
        "\n",
        "* **\"Fine-tuning\" transfer learning**: use the prelearned patterns of an existing model and \"fine-tune\" many or all of the underlying layers (including new output layers). So in this case, there are more changes from the original model. The input data changes, some layers might remain frozen and some layers (or all of them) are unfrozen, thus updated during training, and the last layer is also changed. Usually, top layers get trained on our new data set, while bottom layers may not. However, as with feature extraction, these layers start off with the patterns they have learned in ImageNet. Fine-tuning usually requires more data than feature extraction. "
      ],
      "metadata": {
        "id": "fv4TYrpGRGo6"
      }
    },
    {
      "cell_type": "markdown",
      "source": [
        "## Comparing our models results using TensorBoard\n",
        "\n",
        "TensorBoard is a way to **visually explore** your machine learning models performance and internals.\n",
        "\n",
        "It enables to host, track and share your machine learning experiments on [TensorBoard.dev](https://tensorboard.dev/). TensorBoard also integrates with websites like **[Weights & Biases](https://wandb.ai)** (check their website, we are not going to go through it here).\n",
        "\n",
        "If we try to compare a small amount of experiments, it might be easy to check the training output. However, for many experiments, it can be messy and complicated to do so. TensorBoard can be used to track (many) experiments easily.\n",
        "\n",
        "More info about [TensorBoard](https://www.tensorflow.org/tensorboard)."
      ],
      "metadata": {
        "id": "kqiZKfzWRIfO"
      }
    },
    {
      "cell_type": "markdown",
      "source": [
        "**Note**: When you upload things to TensorBoard.dev, your experiments are public. So, if you are running private experiments (things you do not want others to see), do not upload them to TensorBoard.dev."
      ],
      "metadata": {
        "id": "fVzA-m8jlDYI"
      }
    },
    {
      "cell_type": "code",
      "source": [
        "# Running TensorBoard in Colab is easy, as it is pre-installed, otherwise we should do it\n",
        "\n",
        "# Upload TensorBoard dev records\n",
        "!tensorboard dev upload --logdir ./tensorflow_hub/ \\\n",
        "  --name \"EfficientNetB0 vs. ResNet50v2\" \\\n",
        "  --description \"Comparing two different TF Hub feature extraction model architectures using 10% of the training data\" \\\n",
        "  --one_shot\n",
        "\n",
        "# one_shot flag exits the uploader once the files are uploaded"
      ],
      "metadata": {
        "id": "MhnS8uPYoGRx"
      },
      "execution_count": null,
      "outputs": []
    },
    {
      "cell_type": "markdown",
      "source": [
        "Our TensorBoard experiments are uploaded publicly here: https://tensorboard.dev/experiment/zqBVploVS6i4ZZjiw40X6Q/"
      ],
      "metadata": {
        "id": "l5YXVP7Fow9n"
      }
    },
    {
      "cell_type": "code",
      "source": [
        "# Very cool and awesome visualization of the curves of many experiments that we can manipulate, and analyse easily!\n",
        "# Many info included in the dashboard, check and experiment with the provided options!"
      ],
      "metadata": {
        "id": "8NbUF809pbd-"
      },
      "execution_count": 32,
      "outputs": []
    },
    {
      "cell_type": "code",
      "source": [
        "# Check out what TensorBoard experiments you have stored in TensorBoard.dev\n",
        "!tensorboard dev list"
      ],
      "metadata": {
        "colab": {
          "base_uri": "https://localhost:8080/"
        },
        "id": "lVGmHwCVqLnO",
        "outputId": "3867c759-e463-4440-e2b7-baa91cb947a7"
      },
      "execution_count": 33,
      "outputs": [
        {
          "output_type": "stream",
          "name": "stdout",
          "text": [
            "https://tensorboard.dev/experiment/zqBVploVS6i4ZZjiw40X6Q/\n",
            "\tName                 EfficientNetB0 vs. ResNet50v2\n",
            "\tDescription          Comparing two different TF Hub feature extraction model architectures using 10% of the training data\n",
            "\tId                   zqBVploVS6i4ZZjiw40X6Q\n",
            "\tCreated              2022-09-21 13:25:03 (9 seconds ago)\n",
            "\tUpdated              2022-09-21 13:25:08 (just now)\n",
            "\tRuns                 4\n",
            "\tTags                 5\n",
            "\tScalars              60\n",
            "\tTensor bytes         0\n",
            "\tBinary object bytes  5918538\n",
            "https://tensorboard.dev/experiment/PvdN93PRTGeR1N5edI1LNA/\n",
            "\tName                 EfficientNetB0 vs. ResNet50v2\n",
            "\tDescription          Comparing two different TF Hub feature extraction model architectures using 10% of the training data\n",
            "\tId                   PvdN93PRTGeR1N5edI1LNA\n",
            "\tCreated              2022-09-21 11:03:05 (2 hours ago)\n",
            "\tUpdated              2022-09-21 11:03:07 (2 hours ago)\n",
            "\tRuns                 4\n",
            "\tTags                 5\n",
            "\tScalars              60\n",
            "\tTensor bytes         0\n",
            "\tBinary object bytes  5928165\n",
            "https://tensorboard.dev/experiment/Dpr4GjjDQ1aB1sle9m9IQQ/\n",
            "\tName                 EfficientNetB0 vs. ResNet50v2\n",
            "\tDescription          Comparing two different TF Hub feature extraction model architectures using 10% of the training data\n",
            "\tId                   Dpr4GjjDQ1aB1sle9m9IQQ\n",
            "\tCreated              2022-09-21 10:58:00 (2 hours ago)\n",
            "\tUpdated              2022-09-21 10:58:09 (2 hours ago)\n",
            "\tRuns                 17\n",
            "\tTags                 5\n",
            "\tScalars              240\n",
            "\tTensor bytes         0\n",
            "\tBinary object bytes  23315896\n",
            "Total: 3 experiment(s)\n"
          ]
        }
      ]
    },
    {
      "cell_type": "code",
      "source": [
        "# Delete an experiment\n",
        "!tensorboard dev delete --experiment_id Dpr4GjjDQ1aB1sle9m9IQQ\n",
        "!tensorboard dev delete --experiment_id PvdN93PRTGeR1N5edI1LNA"
      ],
      "metadata": {
        "colab": {
          "base_uri": "https://localhost:8080/"
        },
        "id": "SyXjiA7uqZ_1",
        "outputId": "7d07108b-68b2-42fc-abaf-c1f52acc847c"
      },
      "execution_count": 34,
      "outputs": [
        {
          "output_type": "stream",
          "name": "stdout",
          "text": [
            "Deleted experiment Dpr4GjjDQ1aB1sle9m9IQQ.\n",
            "Deleted experiment PvdN93PRTGeR1N5edI1LNA.\n"
          ]
        }
      ]
    },
    {
      "cell_type": "code",
      "source": [
        "# Confirm the deletion by re-checking what experiments you have left\n",
        "!tensorboard dev list"
      ],
      "metadata": {
        "colab": {
          "base_uri": "https://localhost:8080/"
        },
        "id": "Ym7GQxeJqvyJ",
        "outputId": "0d3b8b93-126a-4c66-d3e8-246f101c3634"
      },
      "execution_count": 35,
      "outputs": [
        {
          "output_type": "stream",
          "name": "stdout",
          "text": [
            "https://tensorboard.dev/experiment/zqBVploVS6i4ZZjiw40X6Q/\n",
            "\tName                 EfficientNetB0 vs. ResNet50v2\n",
            "\tDescription          Comparing two different TF Hub feature extraction model architectures using 10% of the training data\n",
            "\tId                   zqBVploVS6i4ZZjiw40X6Q\n",
            "\tCreated              2022-09-21 13:25:03 (22 seconds ago)\n",
            "\tUpdated              2022-09-21 13:25:08 (17 seconds ago)\n",
            "\tRuns                 4\n",
            "\tTags                 5\n",
            "\tScalars              60\n",
            "\tTensor bytes         0\n",
            "\tBinary object bytes  5918538\n",
            "Total: 1 experiment(s)\n"
          ]
        }
      ]
    },
    {
      "cell_type": "code",
      "source": [
        "# Finished this part!"
      ],
      "metadata": {
        "id": "K1cD9qlpqzvG"
      },
      "execution_count": 36,
      "outputs": []
    },
    {
      "cell_type": "markdown",
      "source": [
        "Practice and do more exercises [HERE](https://github.com/mrdbourke/tensorflow-deep-learning#-04-transfer-learning-in-tensorflow-part-1-feature-extraction-exercises) and extra-curriculum!!"
      ],
      "metadata": {
        "id": "hAiW64V7rce1"
      }
    }
  ]
}